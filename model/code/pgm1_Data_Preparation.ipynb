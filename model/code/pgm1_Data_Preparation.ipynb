{
 "cells": [
  {
   "cell_type": "code",
   "execution_count": 1,
   "metadata": {},
   "outputs": [],
   "source": [
    "# IMPORT LIBRARIES\n",
    "import pandas as pd\n",
    "import numpy as np\n",
    "from dateutil.parser import parse \n",
    "import matplotlib as mpl\n",
    "import matplotlib.pyplot as plt\n",
    "import seaborn as sns\n",
    "from scipy.interpolate import interp1d\n",
    "from sklearn.metrics import mean_squared_error"
   ]
  },
  {
   "cell_type": "code",
   "execution_count": 2,
   "metadata": {},
   "outputs": [],
   "source": [
    "# READ DATASET\n",
    "raw_data = pd.read_excel(\"C:/Users/Claire/Documents/GitHub/nasa_hack/model/datasets/Dengue_PH_Aggregated.xlsx\")\n",
    "raw_data = raw_data.set_index('Date')\n",
    "\n",
    "# TRUNCATE DATA TO INCLUDE OBSERVATIONS UP TO 2018 ONLY\n",
    "raw_data_trunc = raw_data[raw_data.index <= '2018-12-31']"
   ]
  },
  {
   "cell_type": "code",
   "execution_count": 3,
   "metadata": {},
   "outputs": [
    {
     "data": {
      "text/plain": [
       "MTD_Cases               4\n",
       "MTD_Deaths              4\n",
       "Reg_Ave_Temp_NCR        0\n",
       "Reg_Ave_Rainfall_NCR    0\n",
       "GTrend_Dengue           0\n",
       "GTrend_Dengue_Fever     0\n",
       "GTrend_Dengue_Cure      0\n",
       "GTrend_Dengue_Med       0\n",
       "Gtrend_Dengue_Sym       0\n",
       "dtype: int64"
      ]
     },
     "execution_count": 3,
     "metadata": {},
     "output_type": "execute_result"
    }
   ],
   "source": [
    "# CHECK FOR MISSING VALUES\n",
    "raw_data_trunc.isna().sum()"
   ]
  },
  {
   "cell_type": "code",
   "execution_count": 4,
   "metadata": {},
   "outputs": [
    {
     "name": "stderr",
     "output_type": "stream",
     "text": [
      "E:\\Users\\Claire\\Anaconda3\\lib\\site-packages\\ipykernel_launcher.py:18: SettingWithCopyWarning: \n",
      "A value is trying to be set on a copy of a slice from a DataFrame.\n",
      "Try using .loc[row_indexer,col_indexer] = value instead\n",
      "\n",
      "See the caveats in the documentation: http://pandas.pydata.org/pandas-docs/stable/indexing.html#indexing-view-versus-copy\n",
      "E:\\Users\\Claire\\Anaconda3\\lib\\site-packages\\ipykernel_launcher.py:19: SettingWithCopyWarning: \n",
      "A value is trying to be set on a copy of a slice from a DataFrame.\n",
      "Try using .loc[row_indexer,col_indexer] = value instead\n",
      "\n",
      "See the caveats in the documentation: http://pandas.pydata.org/pandas-docs/stable/indexing.html#indexing-view-versus-copy\n",
      "E:\\Users\\Claire\\Anaconda3\\lib\\site-packages\\pandas\\core\\indexing.py:189: SettingWithCopyWarning: \n",
      "A value is trying to be set on a copy of a slice from a DataFrame\n",
      "\n",
      "See the caveats in the documentation: http://pandas.pydata.org/pandas-docs/stable/indexing.html#indexing-view-versus-copy\n",
      "  self._setitem_with_indexer(indexer, value)\n",
      "E:\\Users\\Claire\\Anaconda3\\lib\\site-packages\\ipykernel_launcher.py:22: SettingWithCopyWarning: \n",
      "A value is trying to be set on a copy of a slice from a DataFrame\n",
      "\n",
      "See the caveats in the documentation: http://pandas.pydata.org/pandas-docs/stable/indexing.html#indexing-view-versus-copy\n",
      "E:\\Users\\Claire\\Anaconda3\\lib\\site-packages\\ipykernel_launcher.py:23: SettingWithCopyWarning: \n",
      "A value is trying to be set on a copy of a slice from a DataFrame\n",
      "\n",
      "See the caveats in the documentation: http://pandas.pydata.org/pandas-docs/stable/indexing.html#indexing-view-versus-copy\n"
     ]
    }
   ],
   "source": [
    "# TREAT THE MISSING VALUES USING SEASONAL MEAN\n",
    "def seasonal_mean(ts, n, lr=0.7):\n",
    "    \"\"\"\n",
    "    Compute the mean of corresponding seasonal periods\n",
    "    ts: 1D array-like of the time series\n",
    "    n: Seasonal window length of the time series\n",
    "    \"\"\"\n",
    "    out = np.copy(ts)\n",
    "    for i, val in enumerate(ts):\n",
    "        if np.isnan(val):\n",
    "            ts_seas = ts[i-1::-n]  # previous seasons only\n",
    "            if np.isnan(np.nanmean(ts_seas)):\n",
    "                ts_seas = np.concatenate([ts[i-1::-n], ts[i::n]])  # previous and forward\n",
    "            out[i] = np.nanmean(ts_seas) * lr\n",
    "    return out\n",
    "\n",
    "#--- Get the seasonal means\n",
    "raw_data_trunc['seas_mn_cases'] = seasonal_mean(raw_data_trunc.MTD_Cases, n=12, lr=1.25)\n",
    "raw_data_trunc['seas_mn_deaths'] = seasonal_mean(raw_data_trunc.MTD_Deaths, n=12, lr=1.25)\n",
    "\n",
    "#--- Replace the missing observations with the seasonal means\n",
    "raw_data_trunc.loc[raw_data_trunc['MTD_Cases'].isnull(),'MTD_Cases'] = raw_data_trunc['seas_mn_cases']\n",
    "raw_data_trunc.loc[raw_data_trunc['MTD_Deaths'].isnull(),'MTD_Deaths'] = raw_data_trunc['seas_mn_deaths']\n",
    "\n",
    "#--- Drop the seasonal mean columns\n",
    "raw_data_trunc = raw_data_trunc.drop(columns=['seas_mn_cases','seas_mn_deaths'])"
   ]
  },
  {
   "cell_type": "code",
   "execution_count": 5,
   "metadata": {},
   "outputs": [],
   "source": [
    "# CREATE A NEW COLUMN FOR MORTALITY RATE\n",
    "#raw_data_trunc['Mort_Rate'] = raw_data_trunc.MTD_Deaths / raw_data_trunc.MTD_Cases\n",
    "\n",
    "# TRANSFORM GOOGLE TREND COLUMNS TO PERCENTAGES\n",
    "gtrend_cols = [col for col in raw_data_trunc if col.startswith('GTrend')]\n",
    "raw_data_trunc[gtrend_cols]= raw_data_trunc[gtrend_cols].apply(lambda t: t / 100)"
   ]
  },
  {
   "cell_type": "code",
   "execution_count": 7,
   "metadata": {},
   "outputs": [],
   "source": [
    "# STORE UPDATED DATAFRAME TO PICKLE\n",
    "raw_data_trunc.to_pickle('C:/Users/Claire/Documents/GitHub/nasa_hack/model/datasets/Dengue_PH_Clean.pickle')"
   ]
  }
 ],
 "metadata": {
  "kernelspec": {
   "display_name": "Python 3",
   "language": "python",
   "name": "python3"
  },
  "language_info": {
   "codemirror_mode": {
    "name": "ipython",
    "version": 3
   },
   "file_extension": ".py",
   "mimetype": "text/x-python",
   "name": "python",
   "nbconvert_exporter": "python",
   "pygments_lexer": "ipython3",
   "version": "3.6.5"
  }
 },
 "nbformat": 4,
 "nbformat_minor": 2
}
